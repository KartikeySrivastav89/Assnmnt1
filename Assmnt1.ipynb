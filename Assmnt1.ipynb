{
 "cells": [
  {
   "cell_type": "code",
   "execution_count": 10,
   "id": "9caf022f-b4da-46af-a73c-e4464fdcf006",
   "metadata": {},
   "outputs": [
    {
     "data": {
      "text/plain": [
       "'Ques: who developed python programming language?\\n\\n    Ans: Guido Van Rossum\\n\\n'"
      ]
     },
     "execution_count": 10,
     "metadata": {},
     "output_type": "execute_result"
    }
   ],
   "source": [
    "\"\"\"\n",
    "    (1)Ques: Who developed python programming language?\n",
    "\n",
    "    Ans: Guido Van Rossum.\n",
    "\n",
    "\"\"\""
   ]
  },
  {
   "cell_type": "code",
   "execution_count": 11,
   "id": "04c0be46-d460-4551-bcae-831ccb6491fb",
   "metadata": {},
   "outputs": [
    {
     "data": {
      "text/plain": [
       "'\\n    Ques: which type of programming does python support?\\n    \\n    Ans: Object-oriented programming and structured programming.\\n\\n'"
      ]
     },
     "execution_count": 11,
     "metadata": {},
     "output_type": "execute_result"
    }
   ],
   "source": [
    "\"\"\"\n",
    "   (2) Ques: Which type of programming does python support?\n",
    "    \n",
    "    Ans: Object-oriented programming and structured programming.\n",
    "\n",
    "\"\"\""
   ]
  },
  {
   "cell_type": "code",
   "execution_count": 12,
   "id": "fa0ca323-41c9-4640-85d0-afb70e5a6a34",
   "metadata": {},
   "outputs": [
    {
     "data": {
      "text/plain": [
       "'\\n    Ques: is python case sensitive dealing with identifiers?\\n    \\n    Ans: Yes\\n\\n'"
      ]
     },
     "execution_count": 12,
     "metadata": {},
     "output_type": "execute_result"
    }
   ],
   "source": [
    "\"\"\"\n",
    "   (3) Ques: Is python case sensitive dealing with identifiers?\n",
    "    \n",
    "    Ans: Yes\n",
    "\n",
    "\"\"\""
   ]
  },
  {
   "cell_type": "code",
   "execution_count": 13,
   "id": "e0dfdc4f-c31e-4e82-b29b-f46b479cb23e",
   "metadata": {},
   "outputs": [
    {
     "data": {
      "text/plain": [
       "'\\n    Ques: what is the correct extension of python file\\n    \\n    Ans: .py\\n\\n'"
      ]
     },
     "execution_count": 13,
     "metadata": {},
     "output_type": "execute_result"
    }
   ],
   "source": [
    "\"\"\"\n",
    "   (4) Ques: What is the correct extension of python file\n",
    "    \n",
    "    Ans: .py\n",
    "\n",
    "\"\"\""
   ]
  },
  {
   "cell_type": "code",
   "execution_count": 14,
   "id": "badd2637-590e-447c-872b-230ebc349dd6",
   "metadata": {},
   "outputs": [
    {
     "data": {
      "text/plain": [
       "'\\n    Ques: is python compiled or interpreted?\\n    \\n    Ans: interpreted\\n\\n'"
      ]
     },
     "execution_count": 14,
     "metadata": {},
     "output_type": "execute_result"
    }
   ],
   "source": [
    "\"\"\"\n",
    "    (5)Ques: Is python compiled or interpreted?\n",
    "    \n",
    "    Ans: Interpreted\n",
    "\n",
    "\"\"\""
   ]
  },
  {
   "cell_type": "code",
   "execution_count": 15,
   "id": "a134bd13-0f3f-4a83-b4bf-d3b90d8ced56",
   "metadata": {},
   "outputs": [
    {
     "data": {
      "text/plain": [
       "'\\n    (6)Ques: name of few block of code used to define in python language?\\n    \\n    Ans: Indentation\\n\\n'"
      ]
     },
     "execution_count": 15,
     "metadata": {},
     "output_type": "execute_result"
    }
   ],
   "source": [
    "\"\"\"\n",
    "    (6)Ques: Name of few block of code used to define in python language?\n",
    "    \n",
    "    Ans: Indentation\n",
    "\n",
    "\"\"\""
   ]
  },
  {
   "cell_type": "code",
   "execution_count": 16,
   "id": "1c0b3554-45c3-4b76-8b7f-f4baebdbe0e0",
   "metadata": {},
   "outputs": [
    {
     "data": {
      "text/plain": [
       "'\\n    (7)Ques: State a character used to give single line comments in python?\\n    \\n    Ans: #\\n\\n'"
      ]
     },
     "execution_count": 16,
     "metadata": {},
     "output_type": "execute_result"
    }
   ],
   "source": [
    "\"\"\"\n",
    "    (7)Ques: State a character used to give single line comments in python?\n",
    "    \n",
    "    Ans: #\n",
    "\n",
    "\"\"\""
   ]
  },
  {
   "cell_type": "code",
   "execution_count": 17,
   "id": "448d9f06-72b7-44a4-b4d2-611f1d7748e5",
   "metadata": {},
   "outputs": [
    {
     "data": {
      "text/plain": [
       "'\\n    (8)Ques: Mention function which can help us to find the version of python that we are currently working on?\\n    \\n    Ans: sys.version\\n\\n'"
      ]
     },
     "execution_count": 17,
     "metadata": {},
     "output_type": "execute_result"
    }
   ],
   "source": [
    "\"\"\"\n",
    "    (8)Ques: Mention function which can help us to find the version of python that we are currently working on?\n",
    "    \n",
    "    Ans: sys.version\n",
    "\n",
    "\"\"\""
   ]
  },
  {
   "cell_type": "code",
   "execution_count": 18,
   "id": "058eb983-8424-4467-9860-10f19f8b3900",
   "metadata": {},
   "outputs": [
    {
     "data": {
      "text/plain": [
       "'\\n    (9)Ques: Python supports the creation of anonymous functions at runtime using a construct called?\\n    \\n    Ans: lambda\\n\\n'"
      ]
     },
     "execution_count": 18,
     "metadata": {},
     "output_type": "execute_result"
    }
   ],
   "source": [
    "\"\"\"\n",
    "    (9)Ques: Python supports the creation of anonymous functions at runtime using a construct called?\n",
    "    \n",
    "    Ans: lambda\n",
    "\n",
    "\"\"\""
   ]
  },
  {
   "cell_type": "code",
   "execution_count": 19,
   "id": "12875c26-0ff0-43e7-95bb-edcc3e0fbab2",
   "metadata": {},
   "outputs": [
    {
     "data": {
      "text/plain": [
       "'\\n    (10)Ques: What does pip stands for python?\\n    \\n    Ans: Preferred installer program\\n\\n'"
      ]
     },
     "execution_count": 19,
     "metadata": {},
     "output_type": "execute_result"
    }
   ],
   "source": [
    "\"\"\"\n",
    "    (10)Ques: What does pip stands for python?\n",
    "    \n",
    "    Ans: Preferred Installer Program\n",
    "\n",
    "\"\"\""
   ]
  },
  {
   "cell_type": "code",
   "execution_count": 20,
   "id": "47d9d2e7-90f7-4cf9-9aca-029f0ca2ad99",
   "metadata": {},
   "outputs": [
    {
     "data": {
      "text/plain": [
       "'\\n    (11)Ques: Mention a few built in functions in python?\\n    \\n    Ans: .append(), .extend() , print() , type() , input()\\n\\n'"
      ]
     },
     "execution_count": 20,
     "metadata": {},
     "output_type": "execute_result"
    }
   ],
   "source": [
    "\"\"\"\n",
    "    (11)Ques: Mention a few built in functions in python?\n",
    "    \n",
    "    Ans: .append(), .extend() , print() , type() , input()\n",
    "\n",
    "\"\"\""
   ]
  },
  {
   "cell_type": "code",
   "execution_count": 21,
   "id": "89c762b0-e543-4724-a803-3f0c77eb92b5",
   "metadata": {},
   "outputs": [
    {
     "data": {
      "text/plain": [
       "'\\n    (12)Ques: What is the maximum possible length of an identifier in python?\\n    \\n    Ans: 79\\n\\n'"
      ]
     },
     "execution_count": 21,
     "metadata": {},
     "output_type": "execute_result"
    }
   ],
   "source": [
    "\"\"\"\n",
    "    (12)Ques: What is the maximum possible length of an identifier in python?\n",
    "    \n",
    "    Ans: 79\n",
    "\n",
    "\"\"\""
   ]
  },
  {
   "cell_type": "code",
   "execution_count": 22,
   "id": "b44cd5d1-f088-4e9b-ab7a-a5285712d8ca",
   "metadata": {},
   "outputs": [
    {
     "data": {
      "text/plain": [
       "'\\n    (13)Ques: What are the benefits using python?\\n    \\n    Ans: Data Science , Data Analytics , Stastitics , Web Development\\n\\n'"
      ]
     },
     "execution_count": 22,
     "metadata": {},
     "output_type": "execute_result"
    }
   ],
   "source": [
    "\"\"\"\n",
    "    (13)Ques: What are the benefits using python?\n",
    "    \n",
    "    Ans: Data Science , Data Analytics , Stastitics , Web Development\n",
    "\n",
    "\"\"\""
   ]
  },
  {
   "cell_type": "code",
   "execution_count": 23,
   "id": "80d98f37-b95b-4473-8da2-c95c488aaf49",
   "metadata": {},
   "outputs": [
    {
     "data": {
      "text/plain": [
       "'\\n    (14)Ques: How is memory managed in python?\\n    \\n    Ans: Python involves a private heap containing all Python objects and data structures\\n\\n'"
      ]
     },
     "execution_count": 23,
     "metadata": {},
     "output_type": "execute_result"
    }
   ],
   "source": [
    "\"\"\"\n",
    "    (14)Ques: How is memory managed in python?\n",
    "    \n",
    "    Ans: Python involves a private heap containing all Python objects and data structures\n",
    "\n",
    "\"\"\""
   ]
  },
  {
   "cell_type": "code",
   "execution_count": null,
   "id": "922734c0-d8e8-41ca-bf8d-b5b74e8debf8",
   "metadata": {},
   "outputs": [],
   "source": [
    "\"\"\"\n",
    "    (15)Ques: How to install python on windows and set path variable?\n",
    "    \n",
    "    Ans: \n",
    "\n",
    "\"\"\""
   ]
  }
 ],
 "metadata": {
  "kernelspec": {
   "display_name": "Python 3 (ipykernel)",
   "language": "python",
   "name": "python3"
  },
  "language_info": {
   "codemirror_mode": {
    "name": "ipython",
    "version": 3
   },
   "file_extension": ".py",
   "mimetype": "text/x-python",
   "name": "python",
   "nbconvert_exporter": "python",
   "pygments_lexer": "ipython3",
   "version": "3.10.6"
  }
 },
 "nbformat": 4,
 "nbformat_minor": 5
}
